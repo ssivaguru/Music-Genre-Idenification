{
 "cells": [
  {
   "cell_type": "code",
   "execution_count": 15,
   "metadata": {},
   "outputs": [],
   "source": [
    "import os \n",
    "import librosa\n",
    "import pandas as pd"
   ]
  },
  {
   "cell_type": "code",
   "execution_count": 16,
   "metadata": {},
   "outputs": [
    {
     "name": "stdout",
     "output_type": "stream",
     "text": [
      "['metal', 'hiphop', 'README.md', '.ipynb_checkpoints', 'Untitled.ipynb', '.gitignore', 'reggae', 'rock', 'classical', '.git', 'jazz', 'blues', 'country', 'pop', 'disco']\n",
      "Genre list  ['metal', 'hiphop', 'reggae', 'rock', 'classical', 'jazz', 'blues', 'country', 'pop', 'disco']\n"
     ]
    }
   ],
   "source": [
    "print(os.listdir())\n",
    "GENRE_LIST=['metal','hiphop','reggae','rock','classical','jazz','blues','country','pop','disco']\n",
    "print(\"Genre list \",GENRE_LIST)"
   ]
  },
  {
   "cell_type": "code",
   "execution_count": 3,
   "metadata": {},
   "outputs": [],
   "source": [
    "#create a data set with labels"
   ]
  },
  {
   "cell_type": "code",
   "execution_count": 10,
   "metadata": {},
   "outputs": [
    {
     "data": {
      "text/plain": [
       "'        \\ndef CreateDataSet(path):\\n    df = pd.DataFrame(columns=[\\'data\\', \\'samplerate\\', \\'label\\', \\'path\\'])\\n    for filename in os.listdir(path):\\n        music_name=os.path.join(path,filename)\\n        print(music_name)\\n        try:\\n            X, sample_rate = librosa.load(music_name, res_type=\\'kaiser_fast\\')\\n            df.append(pd.Series([X,sample_rate,path,music_name]))\\n            print(df.shape)\\n        except Exception as e:\\n            print(\"Error encountered while parsing file: \", music_name)\\n            return None\\n    return df\\n'"
      ]
     },
     "execution_count": 10,
     "metadata": {},
     "output_type": "execute_result"
    }
   ],
   "source": [
    "def modifydata(path):\n",
    "    for filename in os.listdir(path):\n",
    "        try:\n",
    "            music_name=os.path.join(path,filename)\n",
    "            new_name=str(music_name[:-3]) + \".wav\"\n",
    "            os.system(\"sox \" + str(music_name) + \" \" + str(new_name))\n",
    "            os.remove(music_name)\n",
    "        except Exception as e:\n",
    "            print(\"Error encountered while parsing file: \", music_name)\n",
    "\"\"\"        \n",
    "def CreateDataSet(path):\n",
    "    df = pd.DataFrame(columns=['data', 'samplerate', 'label', 'path'])\n",
    "    for filename in os.listdir(path):\n",
    "        music_name=os.path.join(path,filename)\n",
    "        print(music_name)\n",
    "        try:\n",
    "            X, sample_rate = librosa.load(music_name, res_type='kaiser_fast')\n",
    "            df.append(pd.Series([X,sample_rate,path,music_name]))\n",
    "            print(df.shape)\n",
    "        except Exception as e:\n",
    "            print(\"Error encountered while parsing file: \", music_name)\n",
    "            return None\n",
    "    return df\n",
    "\"\"\""
   ]
  },
  {
   "cell_type": "code",
   "execution_count": 12,
   "metadata": {},
   "outputs": [
    {
     "name": "stdout",
     "output_type": "stream",
     "text": [
      "Error encountered while parsing file:  Music-Genre-Idenification/.git\n",
      "Error encountered while parsing file:  .git/info\n",
      "Error encountered while parsing file:  .git/branches\n",
      "Error encountered while parsing file:  .git/objects\n",
      "Error encountered while parsing file:  .git/refs\n",
      "Error encountered while parsing file:  .git/logs\n",
      "Error encountered while parsing file:  .git/hooks\n"
     ]
    }
   ],
   "source": [
    "for name in GENRE_LIST:\n",
    "    modifydata(name)"
   ]
  },
  {
   "cell_type": "code",
   "execution_count": 13,
   "metadata": {},
   "outputs": [],
   "source": [
    "#checking out a random audio file \n",
    "name = \"blues/blues.00000.wav\""
   ]
  },
  {
   "cell_type": "code",
   "execution_count": null,
   "metadata": {},
   "outputs": [],
   "source": []
  },
  {
   "cell_type": "code",
   "execution_count": null,
   "metadata": {},
   "outputs": [],
   "source": []
  },
  {
   "cell_type": "code",
   "execution_count": null,
   "metadata": {},
   "outputs": [],
   "source": []
  }
 ],
 "metadata": {
  "kernelspec": {
   "display_name": "Python 3",
   "language": "python",
   "name": "python3"
  },
  "language_info": {
   "codemirror_mode": {
    "name": "ipython",
    "version": 3
   },
   "file_extension": ".py",
   "mimetype": "text/x-python",
   "name": "python",
   "nbconvert_exporter": "python",
   "pygments_lexer": "ipython3",
   "version": "3.5.2"
  }
 },
 "nbformat": 4,
 "nbformat_minor": 2
}
