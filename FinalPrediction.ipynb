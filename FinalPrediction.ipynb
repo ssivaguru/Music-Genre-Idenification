{
 "cells": [
  {
   "cell_type": "code",
   "execution_count": 9,
   "metadata": {},
   "outputs": [],
   "source": [
    "#final predictor\n",
    "import os \n",
    "import librosa\n",
    "import pandas as pd\n",
    "import librosa.display\n",
    "import matplotlib.pyplot as plt\n",
    "import numpy as np\n",
    "from sklearn.model_selection  import train_test_split\n",
    "from sklearn.preprocessing import LabelEncoder\n",
    "from keras.utils import np_utils\n",
    "from tqdm import tqdm\n"
   ]
  },
  {
   "cell_type": "code",
   "execution_count": 10,
   "metadata": {},
   "outputs": [],
   "source": [
    "GENRE_LIST=['metal','hiphop','reggae','rock','classical','jazz','blues','country','pop','disco']"
   ]
  },
  {
   "cell_type": "code",
   "execution_count": 11,
   "metadata": {},
   "outputs": [],
   "source": [
    "#Todo modify method to return dataframe\n",
    "def CreateDataSet(directory):\n",
    "    label=[]\n",
    "    spectralcentroids=[]\n",
    "    zerocrossing=[]\n",
    "    spectralbandwidthdata=[]\n",
    "    spectralrolloffs=[]\n",
    "    mfc=[]\n",
    "    \n",
    "    for folder in directory:\n",
    "        \n",
    "        for filename in tqdm(os.listdir(folder)):\n",
    "            music_name=os.path.join(folder,filename)\n",
    "            try:\n",
    "                X, sample_rate = librosa.load(music_name, res_type='kaiser_fast')\n",
    "                \n",
    "                label.append(folder)\n",
    "                mfccs = np.mean(librosa.feature.mfcc(y=X, sr=sample_rate, n_mfcc=40).T,axis=0)\n",
    "                mfc.append(mfccs)\n",
    "                \n",
    "                ##zero crossing\n",
    "                zerocrossings = librosa.feature.spectral_centroid(y=X, sr=sample_rate , hop_length=512)\n",
    "                centroid = np.mean(np.array(zerocrossings))\n",
    "                std = np.std(np.array(zerocrossings))\n",
    "                zerocrossing.append((centroid,std))\n",
    "                \n",
    "                ##spectral bandwidth\n",
    "                spectralbandwidth = librosa.feature.spectral_bandwidth(y=X, sr=sample_rate , hop_length=512)\n",
    "                centroid = np.mean(np.array(spectralbandwidth))\n",
    "                std = np.std(np.array(spectralbandwidth))\n",
    "                spectralbandwidthdata.append((centroid,std))\n",
    "                \n",
    "                ##spectral centroid \n",
    "                spectralcentroid = librosa.feature.spectral_centroid(y=X, sr=sample_rate , hop_length=512)\n",
    "                centroid = np.mean(np.array(spectralcentroid))\n",
    "                std = np.std(np.array(spectralcentroid))\n",
    "                spectralcentroids.append((centroid,std))\n",
    "                \n",
    "                #3 spectral rolloff\n",
    "                spectralrolloff = librosa.feature.spectral_rolloff(y=X, sr=sample_rate , hop_length=512)\n",
    "                centroid = np.mean(np.array(spectralrolloff))\n",
    "                std = np.std(np.array(spectralrolloff))\n",
    "                spectralrolloffs.append((centroid,std))\n",
    "                \n",
    "            except Exception as e:\n",
    "                print(\"Error encountered while parsing file: \", e)\n",
    "                return None\n",
    "    return np.array(label), np.array(mfc), np.array(zerocrossing), np.array(spectralbandwidthdata), np.array(spectralcentroids), np.array(spectralrolloffs)"
   ]
  },
  {
   "cell_type": "code",
   "execution_count": 58,
   "metadata": {},
   "outputs": [
    {
     "name": "stderr",
     "output_type": "stream",
     "text": [
      "100%|██████████| 100/100 [00:33<00:00,  2.99it/s]\n",
      "100%|██████████| 100/100 [00:33<00:00,  3.01it/s]\n",
      "100%|██████████| 100/100 [00:33<00:00,  3.00it/s]\n",
      "100%|██████████| 100/100 [00:35<00:00,  2.82it/s]\n",
      "100%|██████████| 100/100 [00:37<00:00,  2.66it/s]\n",
      "100%|██████████| 100/100 [00:34<00:00,  2.93it/s]\n",
      "100%|██████████| 100/100 [00:31<00:00,  3.19it/s]\n",
      "100%|██████████| 100/100 [00:31<00:00,  3.18it/s]\n",
      "100%|██████████| 100/100 [00:31<00:00,  3.15it/s]\n",
      "100%|██████████| 100/100 [00:31<00:00,  3.15it/s]\n"
     ]
    }
   ],
   "source": [
    "label, mfc, zero, spectral, centroid, rolloff = CreateDataSet(GENRE_LIST)"
   ]
  },
  {
   "cell_type": "code",
   "execution_count": 59,
   "metadata": {},
   "outputs": [
    {
     "data": {
      "text/plain": [
       "(1000, 2)"
      ]
     },
     "execution_count": 59,
     "metadata": {},
     "output_type": "execute_result"
    }
   ],
   "source": [
    "centroid.shape"
   ]
  },
  {
   "cell_type": "code",
   "execution_count": 13,
   "metadata": {},
   "outputs": [],
   "source": [
    "lb = LabelEncoder()\n",
    "y = np_utils.to_categorical(lb.fit_transform(label))"
   ]
  },
  {
   "cell_type": "code",
   "execution_count": 27,
   "metadata": {},
   "outputs": [],
   "source": [
    "import numpy as np\n",
    "from keras.models import Sequential\n",
    "from keras.layers import Dense, Dropout, Activation, Flatten\n",
    "from keras.layers import Convolution2D, MaxPooling2D, Conv2D\n",
    "from keras.optimizers import Adam\n",
    "from keras.utils import np_utils\n",
    "from sklearn import metrics \n",
    "\n",
    "def createModel(inputshape):\n",
    "    if inputshape is 40:\n",
    "        num_labels = y.shape[1]\n",
    "        # build model\n",
    "        model = Sequential()\n",
    "        model.add(Dense(256, input_shape=(40,)))\n",
    "        model.add(Activation('relu'))\n",
    "        model.add(Dropout(0.5))\n",
    "        model.add(Dense(256))\n",
    "        model.add(Activation('relu'))\n",
    "        model.add(Dropout(0.5))\n",
    "        model.add(Dense(num_labels))\n",
    "        model.add(Activation('softmax'))\n",
    "        model.compile(loss='categorical_crossentropy', metrics=['accuracy'], optimizer='adam')\n",
    "    else:\n",
    "        model = Sequential()\n",
    "        model.add(Dense(32, input_shape=(2,)))\n",
    "        model.add(Activation('relu'))\n",
    "        model.add(Dropout(0.5))\n",
    "        model.add(Dense(10))\n",
    "        model.add(Activation('softmax'))\n",
    "        model.compile(loss='mean_squared_error', optimizer='adam')\n",
    "    return model"
   ]
  },
  {
   "cell_type": "code",
   "execution_count": 28,
   "metadata": {},
   "outputs": [],
   "source": [
    "mfcc = createModel(40)\n",
    "mfcc.load_weights(\"mfcc.h5\")\n",
    "\n",
    "zerocrossing = createModel(2)\n",
    "zerocrossing.load_weights(\"zero_crossing\")\n",
    "\n",
    "spectralbandwith = createModel(2)\n",
    "spectralbandwith.load_weights(\"Spectral_bandwidth\")\n",
    "\n",
    "spectralcentroid = createModel(2)\n",
    "spectralcentroid.load_weights(\"Spectral_Centroid\")\n",
    "\n",
    "spectralrolloff = createModel(2)\n",
    "spectralrolloff.load_weights(\"Spectral_rolloff\")"
   ]
  },
  {
   "cell_type": "code",
   "execution_count": 29,
   "metadata": {},
   "outputs": [],
   "source": [
    "def getPath(directory):\n",
    "    label=[]\n",
    "    musicfile=[]\n",
    "    for folder in directory:\n",
    "        for filename in tqdm(os.listdir(folder)):\n",
    "            music_name=os.path.join(folder,filename)\n",
    "            musicfile.append(music_name)\n",
    "            label.append(folder)\n",
    "    return np.array(music_name), np.array(label)"
   ]
  },
  {
   "cell_type": "code",
   "execution_count": 30,
   "metadata": {},
   "outputs": [
    {
     "name": "stderr",
     "output_type": "stream",
     "text": [
      "100%|██████████| 100/100 [00:00<00:00, 46515.52it/s]\n",
      "100%|██████████| 100/100 [00:00<00:00, 142276.26it/s]\n",
      "100%|██████████| 100/100 [00:00<00:00, 83835.78it/s]\n",
      "100%|██████████| 100/100 [00:00<00:00, 87930.90it/s]\n",
      "100%|██████████| 100/100 [00:00<00:00, 70433.32it/s]\n",
      "100%|██████████| 100/100 [00:00<00:00, 39968.59it/s]\n",
      "100%|██████████| 100/100 [00:00<00:00, 51000.78it/s]\n",
      "100%|██████████| 100/100 [00:00<00:00, 141843.22it/s]\n",
      "100%|██████████| 100/100 [00:00<00:00, 224654.74it/s]\n",
      "100%|██████████| 100/100 [00:00<00:00, 227580.25it/s]\n"
     ]
    }
   ],
   "source": [
    "path, label = getPath(GENRE_LIST)"
   ]
  },
  {
   "cell_type": "code",
   "execution_count": null,
   "metadata": {},
   "outputs": [],
   "source": []
  },
  {
   "cell_type": "code",
   "execution_count": 79,
   "metadata": {},
   "outputs": [],
   "source": [
    "output1 = zerocrossing.predict(zero)\n",
    "output2 = mfcc.predict(mfc)\n",
    "output3 = spectralbandwith.predict(spectral)\n",
    "output4 = spectralcentroid.predict(centroid)\n",
    "output5 = spectralrolloff.predict(rolloff)"
   ]
  },
  {
   "cell_type": "code",
   "execution_count": 106,
   "metadata": {},
   "outputs": [],
   "source": [
    "def predictionarray(data1, data2, data3, data4, data5):\n",
    "    pred=[]\n",
    "    for row1, row2, row3, row4, row5 in zip(data1,data2,data3,data4,data5):\n",
    "        pred.append([np.argmax(row1),np.argmax(row2),np.argmax(row3),np.argmax(row4),np.argmax(row5)])\n",
    "    return np.array(pred)"
   ]
  },
  {
   "cell_type": "code",
   "execution_count": 111,
   "metadata": {},
   "outputs": [],
   "source": [
    "finaloutput = predictionarray(output1, output2, output3, output4, output5)"
   ]
  },
  {
   "cell_type": "code",
   "execution_count": 112,
   "metadata": {},
   "outputs": [],
   "source": [
    "from sklearn.model_selection import train_test_split\n",
    "\n",
    "X_train, X_test, y_train, y_test = train_test_split(finaloutput, label, test_size=0.33, random_state=42)"
   ]
  },
  {
   "cell_type": "code",
   "execution_count": 114,
   "metadata": {},
   "outputs": [],
   "source": [
    "from sklearn.ensemble import RandomForestClassifier\n",
    "\n",
    "forest = RandomForestClassifier(n_estimators = 100) \n",
    "forest = forest.fit( X_train, y_train )"
   ]
  },
  {
   "cell_type": "code",
   "execution_count": 116,
   "metadata": {},
   "outputs": [
    {
     "data": {
      "text/plain": [
       "array(['classical', 'classical', 'classical', 'classical', 'classical',\n",
       "       'classical', 'classical', 'classical', 'classical', 'classical',\n",
       "       'hiphop', 'metal', 'hiphop', 'classical', 'metal', 'classical',\n",
       "       'classical', 'classical', 'classical', 'classical', 'classical',\n",
       "       'hiphop', 'classical', 'classical', 'classical', 'classical',\n",
       "       'classical', 'hiphop', 'hiphop', 'country', 'classical', 'hiphop',\n",
       "       'classical', 'classical', 'classical', 'classical', 'hiphop',\n",
       "       'classical', 'classical', 'metal', 'classical', 'hiphop',\n",
       "       'classical', 'hiphop', 'classical', 'classical', 'classical',\n",
       "       'classical', 'classical', 'hiphop', 'classical', 'classical',\n",
       "       'classical', 'classical', 'metal', 'metal', 'classical', 'metal',\n",
       "       'classical', 'classical', 'hiphop', 'classical', 'classical',\n",
       "       'country', 'hiphop', 'classical', 'classical', 'hiphop', 'metal',\n",
       "       'classical', 'classical', 'classical', 'classical', 'classical',\n",
       "       'classical', 'classical', 'metal', 'metal', 'classical',\n",
       "       'classical', 'metal', 'metal', 'classical', 'metal', 'classical',\n",
       "       'classical', 'metal', 'classical', 'hiphop', 'metal', 'classical',\n",
       "       'classical', 'classical', 'classical', 'classical', 'classical',\n",
       "       'metal', 'metal', 'metal', 'classical', 'classical', 'classical',\n",
       "       'classical', 'classical', 'classical', 'hiphop', 'classical',\n",
       "       'classical', 'classical', 'classical', 'classical', 'pop',\n",
       "       'classical', 'classical', 'classical', 'classical', 'hiphop',\n",
       "       'classical', 'classical', 'classical', 'pop', 'classical',\n",
       "       'classical', 'classical', 'classical', 'classical', 'classical',\n",
       "       'classical', 'classical', 'classical', 'classical', 'classical',\n",
       "       'classical', 'hiphop', 'classical', 'metal', 'classical',\n",
       "       'classical', 'metal', 'metal', 'metal', 'classical', 'classical',\n",
       "       'classical', 'classical', 'pop', 'classical', 'hiphop',\n",
       "       'classical', 'classical', 'classical', 'classical', 'hiphop',\n",
       "       'classical', 'classical', 'classical', 'metal', 'classical',\n",
       "       'metal', 'pop', 'classical', 'classical', 'classical', 'classical',\n",
       "       'classical', 'classical', 'classical', 'hiphop', 'classical',\n",
       "       'classical', 'metal', 'classical', 'classical', 'metal',\n",
       "       'classical', 'classical', 'classical', 'classical', 'classical',\n",
       "       'classical', 'classical', 'classical', 'classical', 'classical',\n",
       "       'classical', 'hiphop', 'classical', 'classical', 'classical',\n",
       "       'classical', 'classical', 'hiphop', 'classical', 'classical',\n",
       "       'classical', 'classical', 'classical', 'classical', 'classical',\n",
       "       'classical', 'metal', 'classical', 'classical', 'classical',\n",
       "       'classical', 'classical', 'classical', 'classical', 'classical',\n",
       "       'classical', 'hiphop', 'classical', 'classical', 'classical',\n",
       "       'classical', 'classical', 'classical', 'classical', 'classical',\n",
       "       'pop', 'classical', 'classical', 'classical', 'metal', 'classical',\n",
       "       'classical', 'classical', 'classical', 'classical', 'classical',\n",
       "       'hiphop', 'classical', 'classical', 'classical', 'metal', 'metal',\n",
       "       'classical', 'classical', 'classical', 'classical', 'metal',\n",
       "       'classical', 'classical', 'classical', 'classical', 'metal',\n",
       "       'classical', 'hiphop', 'metal', 'classical', 'metal', 'hiphop',\n",
       "       'classical', 'hiphop', 'hiphop', 'classical', 'classical',\n",
       "       'classical', 'metal', 'metal', 'classical', 'classical', 'metal',\n",
       "       'classical', 'classical', 'classical', 'pop', 'classical',\n",
       "       'classical', 'classical', 'classical', 'classical', 'classical',\n",
       "       'classical', 'classical', 'metal', 'metal', 'classical', 'metal',\n",
       "       'classical', 'classical', 'classical', 'classical', 'classical',\n",
       "       'metal', 'classical', 'metal', 'classical', 'classical',\n",
       "       'classical', 'hiphop', 'pop', 'classical', 'classical',\n",
       "       'classical', 'classical', 'classical', 'classical', 'metal',\n",
       "       'metal', 'classical', 'classical', 'classical', 'classical',\n",
       "       'classical', 'pop', 'classical', 'classical', 'hiphop',\n",
       "       'classical', 'classical', 'classical', 'classical', 'classical',\n",
       "       'classical', 'classical', 'classical', 'classical', 'classical',\n",
       "       'classical', 'metal', 'classical', 'classical', 'classical',\n",
       "       'classical', 'classical', 'classical', 'classical', 'classical',\n",
       "       'classical'], dtype='<U9')"
      ]
     },
     "execution_count": 116,
     "metadata": {},
     "output_type": "execute_result"
    }
   ],
   "source": [
    "forest.predict(X_test)"
   ]
  },
  {
   "cell_type": "code",
   "execution_count": 117,
   "metadata": {},
   "outputs": [
    {
     "name": "stdout",
     "output_type": "stream",
     "text": [
      "['jazz' 'country' 'country' 'blues' 'classical' 'blues' 'blues' 'jazz'\n",
      " 'pop' 'hiphop' 'pop' 'metal' 'blues' 'disco' 'disco' 'pop' 'reggae' 'pop'\n",
      " 'country' 'rock' 'jazz' 'hiphop' 'rock' 'jazz' 'reggae' 'reggae' 'hiphop'\n",
      " 'disco' 'disco' 'disco' 'rock' 'hiphop' 'blues' 'classical' 'rock'\n",
      " 'hiphop' 'blues' 'jazz' 'disco' 'metal' 'rock' 'metal' 'rock' 'disco'\n",
      " 'reggae' 'reggae' 'disco' 'blues' 'classical' 'pop' 'jazz' 'pop' 'reggae'\n",
      " 'jazz' 'metal' 'metal' 'blues' 'metal' 'reggae' 'pop' 'reggae' 'metal'\n",
      " 'jazz' 'reggae' 'blues' 'blues' 'blues' 'pop' 'metal' 'jazz' 'hiphop'\n",
      " 'classical' 'jazz' 'country' 'reggae' 'reggae' 'blues' 'metal' 'jazz'\n",
      " 'rock' 'blues' 'metal' 'reggae' 'metal' 'rock' 'jazz' 'disco' 'country'\n",
      " 'country' 'rock' 'rock' 'classical' 'jazz' 'reggae' 'country' 'classical'\n",
      " 'country' 'metal' 'metal' 'pop' 'country' 'rock' 'disco' 'reggae' 'blues'\n",
      " 'blues' 'jazz' 'disco' 'hiphop' 'disco' 'jazz' 'pop' 'disco' 'pop'\n",
      " 'metal' 'classical' 'hiphop' 'disco' 'jazz' 'reggae' 'pop' 'classical'\n",
      " 'country' 'reggae' 'reggae' 'jazz' 'jazz' 'classical' 'pop' 'pop' 'jazz'\n",
      " 'pop' 'reggae' 'disco' 'jazz' 'metal' 'hiphop' 'reggae' 'metal' 'metal'\n",
      " 'metal' 'reggae' 'country' 'reggae' 'pop' 'disco' 'pop' 'reggae' 'pop'\n",
      " 'rock' 'blues' 'hiphop' 'disco' 'classical' 'disco' 'classical' 'rock'\n",
      " 'blues' 'metal' 'pop' 'jazz' 'country' 'blues' 'blues' 'pop' 'blues'\n",
      " 'reggae' 'blues' 'rock' 'rock' 'rock' 'classical' 'hiphop' 'disco'\n",
      " 'classical' 'rock' 'reggae' 'reggae' 'pop' 'blues' 'classical' 'blues'\n",
      " 'rock' 'jazz' 'pop' 'hiphop' 'rock' 'rock' 'disco' 'country' 'disco'\n",
      " 'pop' 'blues' 'hiphop' 'reggae' 'classical' 'rock' 'reggae' 'blues'\n",
      " 'metal' 'metal' 'jazz' 'blues' 'jazz' 'pop' 'jazz' 'hiphop' 'disco'\n",
      " 'classical' 'pop' 'metal' 'hiphop' 'disco' 'pop' 'blues' 'rock' 'blues'\n",
      " 'reggae' 'disco' 'country' 'rock' 'country' 'disco' 'metal' 'pop' 'metal'\n",
      " 'jazz' 'rock' 'disco' 'jazz' 'rock' 'disco' 'classical' 'jazz' 'metal'\n",
      " 'metal' 'reggae' 'disco' 'hiphop' 'rock' 'metal' 'reggae' 'jazz'\n",
      " 'country' 'rock' 'hiphop' 'classical' 'metal' 'metal' 'reggae' 'metal'\n",
      " 'disco' 'country' 'pop' 'rock' 'rock' 'jazz' 'disco' 'disco' 'metal'\n",
      " 'country' 'classical' 'metal' 'reggae' 'rock' 'pop' 'country' 'rock'\n",
      " 'blues' 'rock' 'classical' 'hiphop' 'disco' 'reggae' 'jazz' 'metal'\n",
      " 'hiphop' 'blues' 'metal' 'country' 'jazz' 'country' 'reggae' 'reggae'\n",
      " 'reggae' 'country' 'rock' 'classical' 'reggae' 'disco' 'disco' 'country'\n",
      " 'jazz' 'classical' 'rock' 'classical' 'disco' 'classical' 'metal'\n",
      " 'hiphop' 'jazz' 'classical' 'classical' 'classical' 'country' 'disco'\n",
      " 'rock' 'jazz' 'disco' 'jazz' 'jazz' 'jazz' 'jazz' 'country' 'classical'\n",
      " 'classical' 'reggae' 'rock' 'country' 'reggae' 'metal' 'hiphop' 'rock'\n",
      " 'blues' 'country' 'jazz' 'rock' 'classical' 'country' 'hiphop']\n"
     ]
    }
   ],
   "source": [
    "print(y_test)"
   ]
  },
  {
   "cell_type": "code",
   "execution_count": null,
   "metadata": {},
   "outputs": [],
   "source": []
  }
 ],
 "metadata": {
  "kernelspec": {
   "display_name": "Python 3",
   "language": "python",
   "name": "python3"
  },
  "language_info": {
   "codemirror_mode": {
    "name": "ipython",
    "version": 3
   },
   "file_extension": ".py",
   "mimetype": "text/x-python",
   "name": "python",
   "nbconvert_exporter": "python",
   "pygments_lexer": "ipython3",
   "version": "3.5.2"
  }
 },
 "nbformat": 4,
 "nbformat_minor": 2
}
