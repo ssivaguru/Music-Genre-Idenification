{
 "cells": [
  {
   "cell_type": "code",
   "execution_count": 1,
   "metadata": {},
   "outputs": [
    {
     "name": "stderr",
     "output_type": "stream",
     "text": [
      "Using TensorFlow backend.\n"
     ]
    }
   ],
   "source": [
    "import os \n",
    "import librosa\n",
    "import pandas as pd\n",
    "import librosa.display\n",
    "import matplotlib.pyplot as plt\n",
    "import numpy as np\n",
    "from sklearn.model_selection  import train_test_split\n",
    "from sklearn.preprocessing import LabelEncoder\n",
    "from keras.utils import np_utils"
   ]
  },
  {
   "cell_type": "code",
   "execution_count": 2,
   "metadata": {},
   "outputs": [
    {
     "name": "stdout",
     "output_type": "stream",
     "text": [
      "Genre list  ['metal', 'hiphop', 'reggae', 'rock', 'classical', 'jazz', 'blues', 'country', 'pop', 'disco']\n"
     ]
    }
   ],
   "source": [
    "GENRE_LIST=['metal','hiphop','reggae','rock','classical','jazz','blues','country','pop','disco']\n",
    "print(\"Genre list \",GENRE_LIST)"
   ]
  },
  {
   "cell_type": "code",
   "execution_count": 3,
   "metadata": {},
   "outputs": [
    {
     "name": "stdout",
     "output_type": "stream",
     "text": [
      "[0.08304482]\n"
     ]
    }
   ],
   "source": [
    "#testing centroid \n",
    "X, sample_rate = librosa.load(\"blues/blues.00000.wav\", res_type='kaiser_fast')\n",
    "output = np.mean(librosa.feature.zero_crossing_rate(y=X).T, axis=0)\n",
    "print(output)"
   ]
  },
  {
   "cell_type": "code",
   "execution_count": 6,
   "metadata": {},
   "outputs": [],
   "source": [
    "#spectral_rolloff\n",
    "#Todo modify method to return dataframe\n",
    "def CreateDataSet(folder):\n",
    "    zerocrossing=[]\n",
    "    samplerate=[]\n",
    "    label=[]\n",
    "    path=[]\n",
    "    for directory in folder:\n",
    "        columns=['data', 'samplerate', 'label', 'path']\n",
    "        df = pd.DataFrame(columns=columns)\n",
    "        for filename in os.listdir(directory):\n",
    "            music_name=os.path.join(directory,filename)\n",
    "            try:\n",
    "                X, sample_rate = librosa.load(music_name, res_type='kaiser_fast')\n",
    "                zerocrossings = librosa.feature.spectral_centroid(y=X, sr=sample_rate , hop_length=512)\n",
    "                centroid = np.mean(np.array(zerocrossings))\n",
    "                std = np.std(np.array(zerocrossings))\n",
    "                zerocrossing.append((centroid,std))\n",
    "                samplerate.append(sample_rate)\n",
    "                path.append(music_name)\n",
    "                label.append(directory)\n",
    "            except Exception as e:\n",
    "                print(\"Error encountered while parsing file: \", e)\n",
    "                return None\n",
    "    return np.array(zerocrossing), np.array(samplerate), np.array(label), np.array(path)"
   ]
  },
  {
   "cell_type": "code",
   "execution_count": null,
   "metadata": {},
   "outputs": [],
   "source": [
    "zerocrossing, samplerate, label, path = CreateDataSet(GENRE_LIST)"
   ]
  },
  {
   "cell_type": "code",
   "execution_count": null,
   "metadata": {},
   "outputs": [],
   "source": []
  }
 ],
 "metadata": {
  "kernelspec": {
   "display_name": "Python 3",
   "language": "python",
   "name": "python3"
  },
  "language_info": {
   "codemirror_mode": {
    "name": "ipython",
    "version": 3
   },
   "file_extension": ".py",
   "mimetype": "text/x-python",
   "name": "python",
   "nbconvert_exporter": "python",
   "pygments_lexer": "ipython3",
   "version": "3.5.2"
  }
 },
 "nbformat": 4,
 "nbformat_minor": 2
}
